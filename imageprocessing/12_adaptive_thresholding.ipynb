{
 "cells": [
  {
   "cell_type": "code",
   "execution_count": 3,
   "metadata": {},
   "outputs": [
    {
     "name": "stderr",
     "output_type": "stream",
     "text": [
      "QApplication: invalid style override 'kvantum' passed, ignoring it.\n",
      "\tAvailable styles: Windows, Fusion\n"
     ]
    }
   ],
   "source": [
    "# Python program to illustrate \n",
    "# adaptive thresholding type on an image\n",
    "       \n",
    "# organizing imports \n",
    "import cv2 \n",
    "import numpy as np \n",
    "   \n",
    "# path to input image is specified and  \n",
    "# image is loaded with imread command \n",
    "image1 = cv2.imread('flower.png') \n",
    "   \n",
    "# cv2.cvtColor is applied over the\n",
    "# image input with applied parameters\n",
    "# to convert the image in grayscale \n",
    "img = cv2.cvtColor(image1, cv2.COLOR_BGR2GRAY)\n",
    "   \n",
    "# applying different thresholding \n",
    "# techniques on the input image\n",
    "thresh1 = cv2.adaptiveThreshold(img, 255, cv2.ADAPTIVE_THRESH_MEAN_C,\n",
    "                                          cv2.THRESH_BINARY, 199, 5)\n",
    "  \n",
    "thresh2 = cv2.adaptiveThreshold(img, 255, cv2.ADAPTIVE_THRESH_GAUSSIAN_C,\n",
    "                                          cv2.THRESH_BINARY, 199, 5)\n",
    "  \n",
    "# the window showing output images\n",
    "# with the corresponding thresholding \n",
    "# techniques applied to the input image\n",
    "cv2.imshow('Adaptive Mean', thresh1)\n",
    "cv2.imshow('Adaptive Gaussian', thresh2)\n",
    "  \n",
    "     \n",
    "# De-allocate any associated memory usage  \n",
    "cv2.waitKey(0)\n",
    "cv2.destroyAllWindows()"
   ]
  }
 ],
 "metadata": {
  "kernelspec": {
   "display_name": "Python 3",
   "language": "python",
   "name": "python3"
  },
  "language_info": {
   "codemirror_mode": {
    "name": "ipython",
    "version": 3
   },
   "file_extension": ".py",
   "mimetype": "text/x-python",
   "name": "python",
   "nbconvert_exporter": "python",
   "pygments_lexer": "ipython3",
   "version": "3.10.6"
  },
  "orig_nbformat": 4
 },
 "nbformat": 4,
 "nbformat_minor": 2
}
