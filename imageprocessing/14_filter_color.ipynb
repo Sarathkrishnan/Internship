{
 "cells": [
  {
   "cell_type": "code",
   "execution_count": 3,
   "metadata": {},
   "outputs": [
    {
     "name": "stderr",
     "output_type": "stream",
     "text": [
      "QApplication: invalid style override 'kvantum' passed, ignoring it.\n",
      "\tAvailable styles: Windows, Fusion\n"
     ]
    }
   ],
   "source": [
    "import cv2\n",
    "import numpy as np\n",
    "  \n",
    "cap = cv2.VideoCapture(0)\n",
    "  \n",
    "while(1):\n",
    "    _, frame = cap.read()\n",
    "    # It converts the BGR color space of image to HSV color space\n",
    "    hsv = cv2.cvtColor(frame, cv2.COLOR_BGR2HSV)\n",
    "      \n",
    "    # Threshold of blue in HSV space\n",
    "    lower_blue = np.array([60, 35, 140])\n",
    "    upper_blue = np.array([180, 255, 255])\n",
    "  \n",
    "    # preparing the mask to overlay\n",
    "    mask = cv2.inRange(hsv, lower_blue, upper_blue)\n",
    "      \n",
    "    # The black region in the mask has the value of 0,\n",
    "    # so when multiplied with original image removes all non-blue regions\n",
    "    result = cv2.bitwise_and(frame, frame, mask = mask)\n",
    "  \n",
    "    cv2.imshow('frame', frame)\n",
    "    cv2.imshow('mask', mask)\n",
    "    cv2.imshow('result', result)\n",
    "      \n",
    "    cv2.waitKey(0)\n",
    "  \n",
    "cv2.destroyAllWindows()\n",
    "cap.release()"
   ]
  }
 ],
 "metadata": {
  "kernelspec": {
   "display_name": "Python 3",
   "language": "python",
   "name": "python3"
  },
  "language_info": {
   "codemirror_mode": {
    "name": "ipython",
    "version": 3
   },
   "file_extension": ".py",
   "mimetype": "text/x-python",
   "name": "python",
   "nbconvert_exporter": "python",
   "pygments_lexer": "ipython3",
   "version": "3.10.6"
  },
  "orig_nbformat": 4
 },
 "nbformat": 4,
 "nbformat_minor": 2
}
