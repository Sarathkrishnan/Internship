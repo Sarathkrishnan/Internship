{
 "cells": [
  {
   "cell_type": "code",
   "execution_count": 3,
   "metadata": {},
   "outputs": [],
   "source": [
    "import cv2\n",
    "import numpy as np\n",
    "\n",
    "# Define the kernel\n",
    "kernel = np.ones((1,1), np.uint8)  # 3x3 square kernel of ones\n",
    "\n",
    "# Perform erosion\n",
    "img = cv2.imread('road.jpg', cv2.IMREAD_GRAYSCALE)\n",
    "img = cv2.resize(img,(600,600))\n",
    "erosion = cv2.erode(img, kernel, iterations=1)\n",
    "for i in range(2,150,5):\n",
    "    erosion = cv2.erode(img, kernel, iterations=1)\n",
    "    cv2.imshow('Erosion', erosion)\n",
    "    key = cv2.waitKey(0) & 0xFF  # wait for a key event\n",
    "\n",
    "    # Exit the loop if the \"q\" key is pressed\n",
    "    if key == ord('q'):\n",
    "        break\n",
    "    else:\n",
    "        kernel = np.ones((i,i), np.uint8)\n",
    "        erosion = cv2.erode(img, kernel, iterations=1)\n",
    "\n",
    "cv2.destroyAllWindows()"
   ]
  }
 ],
 "metadata": {
  "kernelspec": {
   "display_name": "Python 3",
   "language": "python",
   "name": "python3"
  },
  "language_info": {
   "codemirror_mode": {
    "name": "ipython",
    "version": 3
   },
   "file_extension": ".py",
   "mimetype": "text/x-python",
   "name": "python",
   "nbconvert_exporter": "python",
   "pygments_lexer": "ipython3",
   "version": "3.10.6"
  },
  "orig_nbformat": 4
 },
 "nbformat": 4,
 "nbformat_minor": 2
}
