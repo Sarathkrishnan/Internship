{
 "cells": [
  {
   "cell_type": "code",
   "execution_count": 1,
   "metadata": {},
   "outputs": [
    {
     "name": "stderr",
     "output_type": "stream",
     "text": [
      "QApplication: invalid style override 'kvantum' passed, ignoring it.\n",
      "\tAvailable styles: Windows, Fusion\n"
     ]
    }
   ],
   "source": [
    "# Python program to explain cv2.cvtColor() method \n",
    "   \n",
    "# importing cv2 \n",
    "import cv2 \n",
    "   \n",
    "# Reading an image in default mode\n",
    "src = cv2.imread('apples.jpg')\n",
    "   \n",
    "# Window name in which image is displayed\n",
    "window_name = 'Image'\n",
    "  \n",
    "# Using cv2.cvtColor() method\n",
    "# Using cv2.COLOR_BGR2HSV color space\n",
    "# conversion code\n",
    "image = cv2.cvtColor(src, cv2.COLOR_BGR2HSV )\n",
    "  \n",
    "# Displaying the image \n",
    "cv2.imshow(window_name, image)\n",
    "# De-allocate any associated memory usage  \n",
    "cv2.waitKey(0)\n",
    "cv2.destroyAllWindows()"
   ]
  },
  {
   "cell_type": "code",
   "execution_count": 3,
   "metadata": {},
   "outputs": [],
   "source": [
    "# Python program to read image\n",
    "# as YCrCb color space\n",
    "  \n",
    "# Import cv2 module\n",
    "import cv2\n",
    "  \n",
    "# Reads the image\n",
    "img = cv2.imread('flower.png')\n",
    "  \n",
    "# Convert to YCrCb color space\n",
    "img = cv2.cvtColor(img, cv2.COLOR_BGR2YCrCb)\n",
    "  \n",
    "# Shows the image\n",
    "cv2.imshow('image', img) \n",
    "  \n",
    "cv2.waitKey(0)         \n",
    "cv2.destroyAllWindows()"
   ]
  },
  {
   "cell_type": "code",
   "execution_count": 5,
   "metadata": {},
   "outputs": [],
   "source": [
    "# Python program to read image\n",
    "# as HSV color space\n",
    "  \n",
    "# Importing cv2 module\n",
    "import cv2\n",
    "  \n",
    "# Reads the image\n",
    "img = cv2.imread('flower.png')\n",
    "  \n",
    "# Converts to HSV color space\n",
    "img = cv2.cvtColor(img, cv2.COLOR_BGR2HSV)\n",
    "  \n",
    "# Shows the image\n",
    "cv2.imshow('image', img) \n",
    "  \n",
    "cv2.waitKey(0)         \n",
    "cv2.destroyAllWindows()"
   ]
  },
  {
   "cell_type": "code",
   "execution_count": 6,
   "metadata": {},
   "outputs": [],
   "source": [
    "# Python program to read image\n",
    "# as LAB color space\n",
    "  \n",
    "# Importing cv2 module\n",
    "import cv2\n",
    "  \n",
    "# Reads the image\n",
    "img = cv2.imread('flower.png')\n",
    "  \n",
    "# Converts to LAB color space\n",
    "img = cv2.cvtColor(img, cv2.COLOR_BGR2LAB)\n",
    "  \n",
    "# Shows the image\n",
    "cv2.imshow('image', img) \n",
    "  \n",
    "cv2.waitKey(0)         \n",
    "cv2.destroyAllWindows()"
   ]
  },
  {
   "cell_type": "code",
   "execution_count": 2,
   "metadata": {},
   "outputs": [
    {
     "name": "stderr",
     "output_type": "stream",
     "text": [
      "QApplication: invalid style override 'kvantum' passed, ignoring it.\n",
      "\tAvailable styles: Windows, Fusion\n"
     ]
    }
   ],
   "source": [
    "# Python program to read image\n",
    "# as EdgeMap\n",
    "  \n",
    "# Importing cv2 module\n",
    "import cv2\n",
    "  \n",
    "# Reads the image\n",
    "img = cv2.imread('flower.png')\n",
    "  \n",
    "  \n",
    "laplacian = cv2.Laplacian(img, cv2.CV_64F)\n",
    "cv2.imshow('EdgeMap', laplacian) \n",
    "  \n",
    "cv2.waitKey(0)         \n",
    "cv2.destroyAllWindows()"
   ]
  },
  {
   "cell_type": "code",
   "execution_count": 10,
   "metadata": {},
   "outputs": [],
   "source": [
    "# Python program to visualize \n",
    "# Heat map of image\n",
    "  \n",
    "# Importing matplotlib and cv2\n",
    "import matplotlib.pyplot as plt\n",
    "import cv2\n",
    "  \n",
    "# reads the image\n",
    "img = cv2.imread('flower.png')\n",
    "heatmap = cv2.applyColorMap(img, cv2.COLORMAP_HOT)\n",
    "\n",
    "# Displays the heatmap\n",
    "cv2.imshow('Heatmap', heatmap)\n",
    "cv2.waitKey(0)\n",
    "cv2.destroyAllWindows()"
   ]
  },
  {
   "cell_type": "code",
   "execution_count": 2,
   "metadata": {},
   "outputs": [],
   "source": [
    "import cv2\n",
    "import numpy as np\n",
    "\n",
    "# Reads the spectral image\n",
    "img = cv2.imread('apples.jpg', -1)\n",
    "\n",
    "# Applies a color map to the image\n",
    "mapped_img = cv2.applyColorMap(np.uint8(img), cv2.COLORMAP_JET)\n",
    "\n",
    "# Displays the result\n",
    "cv2.imshow('Spectral Image Map', mapped_img)\n",
    "cv2.waitKey(0)\n",
    "cv2.destroyAllWindows()\n"
   ]
  }
 ],
 "metadata": {
  "kernelspec": {
   "display_name": "Python 3",
   "language": "python",
   "name": "python3"
  },
  "language_info": {
   "codemirror_mode": {
    "name": "ipython",
    "version": 3
   },
   "file_extension": ".py",
   "mimetype": "text/x-python",
   "name": "python",
   "nbconvert_exporter": "python",
   "pygments_lexer": "ipython3",
   "version": "3.10.6"
  },
  "orig_nbformat": 4
 },
 "nbformat": 4,
 "nbformat_minor": 2
}
