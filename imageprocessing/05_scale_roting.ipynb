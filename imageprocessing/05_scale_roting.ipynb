{
 "cells": [
  {
   "cell_type": "code",
   "execution_count": 2,
   "metadata": {},
   "outputs": [],
   "source": [
    "# scaling\n",
    "import cv2\n",
    "\n",
    "img = cv2.imread('apples.jpg')\n",
    "(height, width) = img.shape[:2]\n",
    "res = cv2.resize(img, (int(width / 2), int(height / 2)), interpolation = cv2.INTER_CUBIC)\n",
    "\n",
    "cv2.imshow('Grayscale Image', res)\n",
    "cv2.waitKey(0)\n",
    "cv2.destroyAllWindows()\n"
   ]
  },
  {
   "cell_type": "code",
   "execution_count": 2,
   "metadata": {},
   "outputs": [],
   "source": [
    "# rotation\n",
    "img = cv2.imread('apples.jpg')\n",
    "(rows, cols) = img.shape[:2]\n",
    "\n",
    "M = cv2.getRotationMatrix2D((cols / 2, rows / 2), 45, 1)\n",
    "res = cv2.warpAffine(img, M, (cols, rows))\n",
    "\n",
    "cv2.imshow('Grayscale Image', res)\n",
    "cv2.waitKey(0)\n",
    "cv2.destroyAllWindows()"
   ]
  },
  {
   "cell_type": "code",
   "execution_count": 3,
   "metadata": {},
   "outputs": [],
   "source": [
    "# translation\n",
    "import cv2\n",
    "import numpy as np\n",
    "\n",
    "# Create translation matrix.\n",
    "# If the shift is (x, y) then matrix would be\n",
    "# M = [1 0 x]\n",
    "#     [0 1 y]\n",
    "# Let's shift by (100, 50).\n",
    "M = np.float32([[1, 0, 100], [0, 1, 50]])\n",
    "\n",
    "img = cv2.imread('apples.jpg')\n",
    "(rows, cols) = img.shape[:2]\n",
    "\n",
    "# warpAffine does appropriate shifting given the\n",
    "# translation matrix.\n",
    "res = cv2.warpAffine(img, M, (cols, rows))\n",
    "\n",
    "cv2.imshow('After translation', res)\n",
    "cv2.waitKey(0)\n",
    "cv2.destroyAllWindows()"
   ]
  },
  {
   "cell_type": "code",
   "execution_count": 3,
   "metadata": {},
   "outputs": [],
   "source": [
    "# edges\n",
    "img = cv2.imread('apples.jpg')\n",
    " \n",
    "# Canny edge detection.\n",
    "edges = cv2.Canny(img, 10, 20)\n",
    " \n",
    "cv2.imshow('Edges', edges)\n",
    "cv2.waitKey(0)\n",
    "cv2.destroyAllWindows()"
   ]
  }
 ],
 "metadata": {
  "kernelspec": {
   "display_name": "Python 3",
   "language": "python",
   "name": "python3"
  },
  "language_info": {
   "codemirror_mode": {
    "name": "ipython",
    "version": 3
   },
   "file_extension": ".py",
   "mimetype": "text/x-python",
   "name": "python",
   "nbconvert_exporter": "python",
   "pygments_lexer": "ipython3",
   "version": "3.10.6"
  },
  "orig_nbformat": 4
 },
 "nbformat": 4,
 "nbformat_minor": 2
}
