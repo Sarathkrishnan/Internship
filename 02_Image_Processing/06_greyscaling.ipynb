{
 "cells": [
  {
   "cell_type": "code",
   "execution_count": 3,
   "metadata": {},
   "outputs": [],
   "source": [
    "# way 1 : cv2.cvtColor\n",
    "import cv2\n",
    "image = cv2.imread('apples.jpg')\n",
    "cv2.imshow('Original Image',image)\n",
    "cv2.waitKey(0)\n",
    "gray_image = cv2.cvtColor(image,cv2.COLOR_BGR2GRAY)\n",
    "cv2.imshow('Grayscale', gray_image)\n",
    "cv2.waitKey(0)\n",
    "cv2.destroyAllWindows()"
   ]
  },
  {
   "cell_type": "code",
   "execution_count": 8,
   "metadata": {},
   "outputs": [],
   "source": [
    "# way 2: using imread\n",
    "img = cv2.imread('apples.jpg', 0)\n",
    "cv2.imshow('Grayscale Image', img)\n",
    "cv2.waitKey(0)\n",
    "cv2.destroyAllWindows()"
   ]
  },
  {
   "cell_type": "code",
   "execution_count": 4,
   "metadata": {},
   "outputs": [],
   "source": [
    "img = cv2.imread('apples.jpg')\n",
    "\n",
    "(row, col) = img.shape[0:2]\n",
    "for i in range(row):\n",
    "    for j in range(col):\n",
    "        img[i, j] = sum(img[i, j]) * 0.33\n",
    "  \n",
    "cv2.imshow('Grayscale Image', img)\n",
    "cv2.waitKey(0)\n",
    "cv2.destroyAllWindows()"
   ]
  }
 ],
 "metadata": {
  "kernelspec": {
   "display_name": "Python 3",
   "language": "python",
   "name": "python3"
  },
  "language_info": {
   "codemirror_mode": {
    "name": "ipython",
    "version": 3
   },
   "file_extension": ".py",
   "mimetype": "text/x-python",
   "name": "python",
   "nbconvert_exporter": "python",
   "pygments_lexer": "ipython3",
   "version": "3.10.6"
  },
  "orig_nbformat": 4
 },
 "nbformat": 4,
 "nbformat_minor": 2
}
