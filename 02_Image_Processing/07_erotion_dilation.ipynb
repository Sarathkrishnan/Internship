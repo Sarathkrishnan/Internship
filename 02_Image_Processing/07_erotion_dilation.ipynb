{
 "cells": [
  {
   "cell_type": "code",
   "execution_count": 6,
   "metadata": {},
   "outputs": [],
   "source": [
    "# Python program to demonstrate erosion and\n",
    "# dilation of images.\n",
    "import cv2\n",
    "import numpy as np\n",
    "\n",
    "# Reading the input image\n",
    "img = cv2.imread('apples.jpg',0)\n",
    "\n",
    "# Taking a matrix of size 5 as the kernel\n",
    "kernel = np.ones((5, 5), np.uint8)\n",
    "\n",
    "# The first parameter is the original image,\n",
    "# kernel is the matrix with which image is\n",
    "# convolved and third parameter is the number\n",
    "# of iterations, which will determine how much\n",
    "# you want to erode/dilate a given image.\n",
    "img_erosion = cv2.erode(img, kernel, iterations=2)\n",
    "img_dilation = cv2.dilate(img, kernel, iterations=2)\n",
    "\n",
    "cv2.imshow('Input', img)\n",
    "cv2.imshow('Erosion', img_erosion)\n",
    "cv2.imshow('Dilation', img_dilation)\n",
    "\n",
    "cv2.waitKey(0)\n",
    "cv2.destroyAllWindows()"
   ]
  }
 ],
 "metadata": {
  "kernelspec": {
   "display_name": "Python 3",
   "language": "python",
   "name": "python3"
  },
  "language_info": {
   "codemirror_mode": {
    "name": "ipython",
    "version": 3
   },
   "file_extension": ".py",
   "mimetype": "text/x-python",
   "name": "python",
   "nbconvert_exporter": "python",
   "pygments_lexer": "ipython3",
   "version": "3.10.6"
  },
  "orig_nbformat": 4
 },
 "nbformat": 4,
 "nbformat_minor": 2
}
