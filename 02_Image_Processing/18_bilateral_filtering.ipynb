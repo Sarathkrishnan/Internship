{
 "cells": [
  {
   "cell_type": "code",
   "execution_count": 1,
   "metadata": {},
   "outputs": [
    {
     "data": {
      "text/plain": [
       "True"
      ]
     },
     "execution_count": 1,
     "metadata": {},
     "output_type": "execute_result"
    }
   ],
   "source": [
    "import cv2\n",
    "  \n",
    "# Read the image.\n",
    "img = cv2.imread('apples.jpg')\n",
    "  \n",
    "# Apply bilateral filter with d = 15, \n",
    "# sigmaColor = sigmaSpace = 75.\n",
    "bilateral = cv2.bilateralFilter(img, 15, 75, 75)\n",
    "  \n",
    "# Save the output.\n",
    "cv2.imwrite('blured_apple.jpg', bilateral)"
   ]
  }
 ],
 "metadata": {
  "kernelspec": {
   "display_name": "Python 3",
   "language": "python",
   "name": "python3"
  },
  "language_info": {
   "codemirror_mode": {
    "name": "ipython",
    "version": 3
   },
   "file_extension": ".py",
   "mimetype": "text/x-python",
   "name": "python",
   "nbconvert_exporter": "python",
   "pygments_lexer": "ipython3",
   "version": "3.10.6"
  },
  "orig_nbformat": 4
 },
 "nbformat": 4,
 "nbformat_minor": 2
}
