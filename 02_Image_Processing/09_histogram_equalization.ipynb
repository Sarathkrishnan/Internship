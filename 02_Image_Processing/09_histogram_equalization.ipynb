{
 "cells": [
  {
   "cell_type": "code",
   "execution_count": 3,
   "metadata": {},
   "outputs": [],
   "source": [
    "# import Opencv\n",
    "import cv2\n",
    "  \n",
    "# import Numpy\n",
    "import numpy as np\n",
    "  \n",
    "# read a image using imread\n",
    "img = cv2.imread('flower.png', 0)\n",
    "  \n",
    "# creating a Histograms Equalization\n",
    "# of a image using cv2.equalizeHist()\n",
    "equ = cv2.equalizeHist(img)\n",
    "  \n",
    "# stacking images side-by-side\n",
    "res = np.hstack((img, equ))\n",
    "  \n",
    "# show image input vs output\n",
    "cv2.imshow('image', res)\n",
    "  \n",
    "cv2.waitKey(0)\n",
    "cv2.destroyAllWindows()"
   ]
  }
 ],
 "metadata": {
  "kernelspec": {
   "display_name": "Python 3",
   "language": "python",
   "name": "python3"
  },
  "language_info": {
   "codemirror_mode": {
    "name": "ipython",
    "version": 3
   },
   "file_extension": ".py",
   "mimetype": "text/x-python",
   "name": "python",
   "nbconvert_exporter": "python",
   "pygments_lexer": "ipython3",
   "version": "3.10.6"
  },
  "orig_nbformat": 4
 },
 "nbformat": 4,
 "nbformat_minor": 2
}
